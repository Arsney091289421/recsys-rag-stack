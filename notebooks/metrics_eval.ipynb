{
 "cells": [
  {
   "cell_type": "code",
   "execution_count": null,
   "id": "9ba6b739",
   "metadata": {},
   "outputs": [
    {
     "name": "stderr",
     "output_type": "stream",
     "text": [
      "Evaluating per file: 100%|██████████| 100/100 [00:06<00:00, 15.86it/s]"
     ]
    },
    {
     "name": "stdout",
     "output_type": "stream",
     "text": [
      "Valid users: 100\n",
      "Two-Tower NDCG@10: 0.0163\n"
     ]
    },
    {
     "name": "stderr",
     "output_type": "stream",
     "text": [
      "\n"
     ]
    }
   ],
   "source": [
    "import pandas as pd, numpy as np\n",
    "from pathlib import Path\n",
    "from sklearn.metrics import ndcg_score\n",
    "from tqdm import tqdm\n",
    "\n",
    "# Data path: each file contains top-N candidates for multiple users\n",
    "data_dir = Path(\"recys-rag-stack/data/processed/rank_labeled\")\n",
    "files = sorted(data_dir.glob(\"rank_*.parquet\"))[:100]  # Limit the number of files\n",
    "\n",
    "total_ndcg, user_count = 0.0, 0\n",
    "\n",
    "for f in tqdm(files, desc=\"Evaluating per file\"):\n",
    "    df = pd.read_parquet(f)\n",
    "\n",
    "    for uid, group in df.groupby(\"userid\"):\n",
    "        # Check if the group is valid: at least 10 samples and both positive & negative labels\n",
    "        if len(group) < 10 or group[\"label\"].nunique() < 2:\n",
    "            continue\n",
    "\n",
    "        # Sort by Two-Tower score and take top 10\n",
    "        group = group.sort_values(\"score\", ascending=False).head(10)\n",
    "\n",
    "        # Evaluate NDCG@10\n",
    "        y_true = group[\"label\"].to_numpy().reshape(1, -1)\n",
    "        y_score = group[\"score\"].to_numpy().reshape(1, -1)\n",
    "        total_ndcg += ndcg_score(y_true, y_score, k=10)\n",
    "        user_count += 1\n",
    "\n",
    "ndcg_final = total_ndcg / user_count if user_count else 0\n",
    "print(f\"Valid users: {user_count}\")\n",
    "print(f\"Two-Tower NDCG@10: {ndcg_final:.4f}\")\n"
   ]
  },
  {
   "cell_type": "code",
   "execution_count": null,
   "id": "e5f379cb",
   "metadata": {},
   "outputs": [
    {
     "name": "stderr",
     "output_type": "stream",
     "text": [
      "Evaluating per file:   0%|          | 0/100 [00:00<?, ?it/s]"
     ]
    },
    {
     "name": "stderr",
     "output_type": "stream",
     "text": [
      "Evaluating per file: 100%|██████████| 100/100 [00:28<00:00,  3.50it/s]"
     ]
    },
    {
     "name": "stdout",
     "output_type": "stream",
     "text": [
      "Valid users: 54\n",
      "GBT (LambdaRank) NDCG@10: 0.5789\n"
     ]
    },
    {
     "name": "stderr",
     "output_type": "stream",
     "text": [
      "\n"
     ]
    }
   ],
   "source": [
    "import pandas as pd, numpy as np, lightgbm as lgb\n",
    "from pathlib import Path\n",
    "from sklearn.metrics import ndcg_score\n",
    "from tqdm import tqdm\n",
    "\n",
    "model_path = \"recys-rag-stack/outputs/lambdarank_model.txt\"\n",
    "data_dir = Path(\"recys-rag-stack/data/processed/rank_labeled\")\n",
    "files = sorted(data_dir.glob(\"rank_*.parquet\"))[:100]\n",
    "\n",
    "feature_cols = [\n",
    "    \"score\",\n",
    "    \"user_total_views\", \"user_total_buys\", \"user_buy_rate\",\n",
    "    \"item_total_views\", \"item_total_buys\", \"item_buy_rate\",\n",
    "]\n",
    "\n",
    "model = lgb.Booster(model_file=model_path)\n",
    "\n",
    "total_ndcg, user_count = 0.0, 0\n",
    "\n",
    "for f in tqdm(files, desc=\"Evaluating per file\"):\n",
    "    df = pd.read_parquet(f)\n",
    "    df[\"gbt_score\"] = model.predict(df[feature_cols].astype(\"float32\"),\n",
    "                                    num_iteration=model.best_iteration)\n",
    "\n",
    "    for uid, group in df.groupby(\"userid\"):\n",
    "        # Sort by GBT score and take top 10\n",
    "        group = group.sort_values(\"gbt_score\", ascending=False).head(10)\n",
    "\n",
    "        # Only evaluate if group has at least 10 items and both positive & negative labels\n",
    "        if len(group) < 10 or group[\"label\"].nunique() < 2:\n",
    "            continue\n",
    "\n",
    "        y_true = group[\"label\"].to_numpy().reshape(1, -1)\n",
    "        y_score = group[\"gbt_score\"].to_numpy().reshape(1, -1)\n",
    "        total_ndcg += ndcg_score(y_true, y_score, k=10)\n",
    "        user_count += 1\n",
    "\n",
    "ndcg_final = total_ndcg / user_count if user_count else 0\n",
    "print(f\"Valid users: {user_count}\")\n",
    "print(f\"GBT (LambdaRank) NDCG@10: {ndcg_final:.4f}\")\n"
   ]
  }
 ],
 "metadata": {
  "kernelspec": {
   "display_name": "venv",
   "language": "python",
   "name": "python3"
  },
  "language_info": {
   "codemirror_mode": {
    "name": "ipython",
    "version": 3
   },
   "file_extension": ".py",
   "mimetype": "text/x-python",
   "name": "python",
   "nbconvert_exporter": "python",
   "pygments_lexer": "ipython3",
   "version": "3.10.6"
  }
 },
 "nbformat": 4,
 "nbformat_minor": 5
}
